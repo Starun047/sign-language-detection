{
 "cells": [
  {
   "cell_type": "code",
   "execution_count": 2,
   "id": "569d13b2",
   "metadata": {},
   "outputs": [
    {
     "name": "stdout",
     "output_type": "stream",
     "text": [
      "1/1 [==============================] - 0s 198ms/step\n",
      "[[0. 0. 0. 0. 0. 0. 0. 0. 0. 0. 0. 0. 0. 0. 0. 0. 0. 0. 1. 0. 0. 0. 0. 0.\n",
      "  0. 0. 0. 0. 0. 0. 0. 0. 0. 0. 0. 0. 0.]]\n",
      "[0. 0. 0. 0. 0. 0. 0. 0. 0. 0. 0. 0. 0. 0. 0. 0. 0. 0. 1. 0. 0. 0. 0. 0.\n",
      " 0. 0. 0. 0. 0. 0. 0. 0. 0. 0. 0. 0. 0.]\n",
      "[[0. 0. 0. 0. 0. 0. 0. 0. 0. 0. 0. 0. 0. 0. 0. 0. 0. 0. 1. 0. 0. 0. 0. 0.\n",
      "  0. 0. 0. 0. 0. 0. 0. 0. 0. 0. 0. 0. 0.]]\n",
      "[0. 0. 0. 0. 0. 0. 0. 0. 0. 0. 0. 0. 0. 0. 0. 0. 0. 0. 1. 0. 0. 0. 0. 0.\n",
      " 0. 0. 0. 0. 0. 0. 0. 0. 0. 0. 0. 0. 0.]\n",
      "Alphabet: s Time Required: 0.3630974292755127\n"
     ]
    }
   ],
   "source": [
    "import cv2\n",
    "import tensorflow as tf\n",
    "import numpy as np\n",
    "import scipy.ndimage as sci\n",
    "import time\n",
    "import os\n",
    "import pyttsx3\n",
    "import speech_recognition as sr\n",
    "listner = sr.Recognizer()\n",
    "s = pyttsx3.init()\n",
    "def talk(x):\n",
    "   s.say(x)\n",
    "   s.runAndWait()\n",
    "\n",
    "def resizeIt(img,size=100,median=2):\n",
    "    img=np.float32(img)\n",
    "    r,c=img.shape\n",
    "    resized_img=cv2.resize(img,(size,size))\n",
    "    filtered_img=sci.median_filter(resized_img,median)\n",
    "    return np.uint8(filtered_img)\n",
    "\n",
    "def preprocessing(img0,IMG_SIZE=100):\n",
    "    img_resized=resizeIt(img0,IMG_SIZE,1)\n",
    "    img_blur = cv2.GaussianBlur(img_resized,(5,5),0)\n",
    "    imgTh=cv2.adaptiveThreshold(img_blur,255,cv2.ADAPTIVE_THRESH_GAUSSIAN_C,cv2.THRESH_BINARY,7,3)\n",
    "    ret,img_th = cv2.threshold(imgTh,0,255,cv2.THRESH_TOZERO+cv2.THRESH_OTSU)\n",
    "    return img_th\n",
    "\n",
    "ALPHABET =  ['a','b','c','d','e','f','g','h','i','j','k','l','m','n','o','p','q','r','s','t','u','v','w','x','y','z','1','2','3','4','5','6','7','8','9'] \n",
    "\n",
    "prev=\"\"\n",
    "model = tf.keras.models.load_model(\"model_name.model\")\n",
    "\n",
    "prev_time = time.time()\n",
    "path = \"data\\\\S\\\\1.jpg\"\n",
    "\n",
    "src = cv2.imread(path)\n",
    "\n",
    "  \n",
    "img_gray = cv2.cvtColor(src, cv2.COLOR_BGR2GRAY)\n",
    "IMG_SIZE = 200\n",
    "\n",
    "img_test = preprocessing(img_gray,IMG_SIZE)\n",
    "\n",
    "cv2.imshow('whole input frame', np.uint8(img_gray))\n",
    "cv2.imshow('qwerty',img_test)\n",
    "    \n",
    "prediction = model.predict([img_test.reshape(-1, IMG_SIZE, IMG_SIZE, 1)])\n",
    "print(prediction)\n",
    "\n",
    "print(prediction[0])\n",
    "    \n",
    "text = ALPHABET[int(np.argmax(prediction[0]))]\n",
    "_ = os.system('cls')\n",
    "print(prediction)\n",
    "\n",
    "print(prediction[0])\n",
    "print('Alphabet: '+text+' Time Required: '+str(time.time()-prev_time))\n",
    "prev_time = time.time()\n",
    "talk(text)"
   ]
  }
 ],
 "metadata": {
  "kernelspec": {
   "display_name": "Python 3.9.12 ('base')",
   "language": "python",
   "name": "python3"
  },
  "language_info": {
   "codemirror_mode": {
    "name": "ipython",
    "version": 3
   },
   "file_extension": ".py",
   "mimetype": "text/x-python",
   "name": "python",
   "nbconvert_exporter": "python",
   "pygments_lexer": "ipython3",
   "version": "3.9.12"
  },
  "vscode": {
   "interpreter": {
    "hash": "da4f4673f38907010cb691f3c439483cabce3f711338163daacefb934f5ab424"
   }
  }
 },
 "nbformat": 4,
 "nbformat_minor": 5
}
